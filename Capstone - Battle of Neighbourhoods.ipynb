{
 "cells": [
  {
   "cell_type": "markdown",
   "metadata": {},
   "source": [
    "## Capstone Project - The Battle of Neighborhoods"
   ]
  },
  {
   "cell_type": "markdown",
   "metadata": {},
   "source": [
    "## Section 1 - Introduction"
   ]
  },
  {
   "cell_type": "code",
   "execution_count": null,
   "metadata": {},
   "outputs": [],
   "source": [
    "In this section I will clearly define the idea of my choosing, where I leverage the Foursquare location data to solve the imagined business opportunity."
   ]
  },
  {
   "cell_type": "markdown",
   "metadata": {},
   "source": [
    "## Business Problem"
   ]
  },
  {
   "cell_type": "code",
   "execution_count": null,
   "metadata": {},
   "outputs": [],
   "source": [
    "As an Asian who is planning to move to Toronto from another city, how can I find the most Asian-friendly neighborhoods to settle down in Toronto?"
   ]
  },
  {
   "cell_type": "markdown",
   "metadata": {},
   "source": [
    "## Section 2 - Data "
   ]
  },
  {
   "cell_type": "markdown",
   "metadata": {},
   "source": [
    "\tPostalcode\tBorough\tNeighborhood\n",
    "0\tM1A\tNot assigned\tNot assigned\\n\n",
    "1\tM2A\tNot assigned\tNot assigned\\n\n",
    "2\tM3A\tNorth York\tParkwoods\\n\n",
    "3\tM4A\tNorth York\tVictoria Village\\n\n",
    "4\tM5A\tDowntown Toronto\tHarbourfront\\n\n",
    "5\tM5A\tDowntown Toronto\tRegent Park\\n\n",
    "6\tM6A\tNorth York\tLawrence Heights\\n\n",
    "7\tM6A\tNorth York\tLawrence Manor\\n\n",
    "8\tM7A\tQueen's Park\tNot assigned\\n\n",
    "9\tM8A\tNot assigned\tNot assigned\\n\n",
    "10\tM9A\tEtobicoke\tIslington Avenue\\n\n",
    "11\tM1B\tScarborough\tRouge\\n\n",
    "12\tM1B\tScarborough\tMalvern\\n\n",
    "13\tM2B\tNot assigned\tNot assigned\\n\n",
    "14\tM3B\tNorth York\tDon Mills North\\n\n",
    "15\tM4B\tEast York\tWoodbine Gardens\\n"
   ]
  },
  {
   "cell_type": "markdown",
   "metadata": {},
   "source": [
    "## Geo Spatial Data"
   ]
  },
  {
   "cell_type": "markdown",
   "metadata": {},
   "source": [
    "\tPostalcode\tBorough\tNeighborhood\tLatitude\tLongitude\n",
    "0\tM1B\tScarborough\tRouge,Malvern\t43.806686\t-79.194353\n",
    "1\tM1C\tScarborough\tHighland Creek,Rouge Hill,Port Union\t43.784535\t-79.160497\n",
    "2\tM1E\tScarborough\tGuildwood,Morningside,West Hill\t43.763573\t-79.188711\n",
    "3\tM1G\tScarborough\tWoburn\t43.770992\t-79.216917\n",
    "4\tM1H\tScarborough\tCedarbrae\t43.773136\t-79.239476\n",
    "5\tM1J\tScarborough\tScarborough Village\t43.744734\t-79.239476\n",
    "6\tM1K\tScarborough\tEast Birchmount Park,Ionview,Kennedy Park\t43.727929\t-79.262029\n",
    "7\tM1L\tScarborough\tClairlea,Golden Mile,Oakridge\t43.711112\t-79.284577\n",
    "8\tM1M\tScarborough\tCliffcrest,Cliffside,Scarborough Village West\t43.716316\t-79.239476\n",
    "9\tM1N\tScarborough\tBirch Cliff,Cliffside West\t43.692657\t-79.264848\n",
    "10\tM1P\tScarborough\tDorset Park,Scarborough Town Centre,Wexford He...\t43.757410\t-79.273304\n",
    "11\tM1R\tScarborough\tMaryvale,Wexford\t43.750072\t-79.295849\n",
    "12\tM1S\tScarborough\tAgincourt\t43.794200\t-79.262029\n",
    "13\tM1T\tScarborough\tClarks Corners,Sullivan,Tam O'Shanter\t43.781638\t-79.304302\n",
    "14\tM1V\tScarborough\tAgincourt North,L'Amoreaux East,Milliken,Steel...\t43.815252\t-79.284577\n",
    "15\tM1W\tScarborough\tL'Amoreaux West\t43.799525\t-79.318389"
   ]
  },
  {
   "cell_type": "markdown",
   "metadata": {},
   "source": [
    "## Get venues information of Toronto from FourSquare"
   ]
  },
  {
   "cell_type": "markdown",
   "metadata": {},
   "source": [
    "    Neighborhood        Neighborhood Latitude   Neighborhood Longitude  Venue                   Venue Latitude  Venue Longitude Venue Category\n",
    "0   Parkwoods           43.753259               -79.329656              Brookbanks Park         43.751976       -79.332140      Park\n",
    "1   Parkwoods           43.753259               -79.329656              PetSmart                43.748639       -79.333488      Pet Store\n",
    "2   Parkwoods           43.753259               -79.329656              KFC                     43.754387       -79.333021      Fast Food Restaurant\n",
    "3   Parkwoods           43.753259               -79.329656              Variety Store           43.751974       -79.333114      Food & Drink Shop\n",
    "4   Parkwoods           43.753259               -79.329656              Ranchdale Park          43.751388       -79.322138      Park\n",
    "5   Parkwoods           43.753259               -79.329656              Joey                    43.753441       -79.321640      Burger Joint\n",
    "6   Parkwoods           43.753259               -79.329656              Three Valleys Park      43.751195       -79.337356      Park\n",
    "7   Victoria Village    43.725882               -79.315572              Victoria Village Arena  43.723481       -79.315635      Hockey Arena\n",
    "8   Victoria Village    43.725882               -79.315572              Tim Hortons             43.725517       -79.313103      Coffee Shop\n",
    "9   Victoria Village    43.725882               -79.315572              Portugril               43.725819       -79.312785      Portuguese Restaurant"
   ]
  },
  {
   "cell_type": "markdown",
   "metadata": {},
   "source": [
    "# Methodology "
   ]
  },
  {
   "cell_type": "markdown",
   "metadata": {},
   "source": [
    "Use k-means algorithm to cluster the neighborhoods based on \n",
    "1) ratio of Asian Restaurant among all venue categories, and \n",
    "2) top 5 venue categories in each neighborhood."
   ]
  }
 ],
 "metadata": {
  "kernelspec": {
   "display_name": "Python 3",
   "language": "python",
   "name": "python3"
  },
  "language_info": {
   "codemirror_mode": {
    "name": "ipython",
    "version": 3
   },
   "file_extension": ".py",
   "mimetype": "text/x-python",
   "name": "python",
   "nbconvert_exporter": "python",
   "pygments_lexer": "ipython3",
   "version": "3.7.3"
  }
 },
 "nbformat": 4,
 "nbformat_minor": 2
}
